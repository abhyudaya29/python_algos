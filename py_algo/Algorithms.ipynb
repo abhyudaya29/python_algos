{
 "cells": [
  {
   "cell_type": "markdown",
   "id": "3b3f99a9",
   "metadata": {},
   "source": [
    "## sum of array"
   ]
  },
  {
   "cell_type": "code",
   "execution_count": 1,
   "id": "b1e0b2fc",
   "metadata": {},
   "outputs": [
    {
     "name": "stdout",
     "output_type": "stream",
     "text": [
      "Sum of the array is  56\n"
     ]
    }
   ],
   "source": [
    "import array as ar\n",
    "\n",
    "def SumofArray(arr):\n",
    "    sum=0\n",
    "    n = len(arr)\n",
    "    for i in range(n):\n",
    "        sum = sum + arr[i]\n",
    "    return sum\n",
    "  \n",
    " \n",
    "a = ar.array('i',[10, 21, 12, 13])\n",
    "  \n",
    "# display sum \n",
    "print ('Sum of the array is ', SumofArray(a) ) "
   ]
  },
  {
   "cell_type": "markdown",
   "id": "be9ad04a",
   "metadata": {},
   "source": [
    "# Largest element"
   ]
  },
  {
   "cell_type": "code",
   "execution_count": 4,
   "id": "7c8c28e5",
   "metadata": {},
   "outputs": [
    {
     "name": "stdout",
     "output_type": "stream",
     "text": [
      "Max of the array is  21\n"
     ]
    }
   ],
   "source": [
    "import array as ar\n",
    "\n",
    "def MaxofArray(arr):\n",
    "    max=a[0]\n",
    "    n = len(arr)   \n",
    "    for i in range(n):\n",
    "        if(max<a[i]):\n",
    "            max=a[i]\n",
    "    return max\n",
    "  \n",
    " \n",
    "a = ar.array('i',[10, 21, 12, 13])\n",
    "  \n",
    "\n",
    "print ('Max of the array is ', MaxofArray(a) ) "
   ]
  },
  {
   "cell_type": "markdown",
   "id": "a85c6e8a",
   "metadata": {},
   "source": [
    "# Rotate array"
   ]
  },
  {
   "cell_type": "code",
   "execution_count": 6,
   "id": "9e34c482",
   "metadata": {},
   "outputs": [
    {
     "name": "stdout",
     "output_type": "stream",
     "text": [
      "Rotated list is\n",
      "[3, 4, 5, 6, 1, 2]\n"
     ]
    }
   ],
   "source": [
    "\n",
    "def rotateArray(a,d):\n",
    "    n=len(a)\n",
    "    a[:]=a[d:n]+a[0:d]\n",
    "    return a\n",
    "\n",
    "arr = [1, 2, 3, 4, 5, 6]\n",
    "\n",
    "print(\"Rotated list is\")\n",
    "print(rotateArray(arr,2)) "
   ]
  },
  {
   "cell_type": "markdown",
   "id": "1af1b69f",
   "metadata": {},
   "source": [
    "# Heap sort"
   ]
  },
  {
   "cell_type": "code",
   "execution_count": 8,
   "id": "8709e2da",
   "metadata": {},
   "outputs": [
    {
     "name": "stdout",
     "output_type": "stream",
     "text": [
      "The original array is:  [7, 2, 5, 6, 3, 1, 8, 4]\n",
      "Array after sorting is:  [1, 2, 3, 4, 5, 6, 7, 8]\n"
     ]
    }
   ],
   "source": [
    "def heapify(array, a, b):\n",
    "\tlargest = b \n",
    "\tl = 2 * b + 1\n",
    "\troot = 2 * b + 2\t \n",
    "\n",
    "\tif l < a and array[b] < array[l]:\n",
    "\t\tlargest = l\n",
    "\n",
    "\tif root < a and array[largest] < array[root]:\n",
    "\t\tlargest = root\n",
    "\n",
    "\n",
    "\tif largest != b:\n",
    "\t    array[b], array[largest] = array[largest], array[b]\n",
    "\t    heapify(array, a, largest)\n",
    "\n",
    "\n",
    "def Heap_Sort(array):\n",
    "\ta = len(array)\n",
    "\n",
    "\t# maxheap..\n",
    "\tfor b in range(a // 2 - 1, -1, -1):\n",
    "\t\theapify(array, a, b)\n",
    "\n",
    "\t\n",
    "\tfor b in range(a-1, 0, -1):\n",
    "\t\tarray[b], array[0] = array[0], array[b] # swap\n",
    "\t\theapify(array, b, 0)\n",
    "\n",
    " \n",
    "array = [ 7, 2, 5, 6, 3, 1, 8, 4]\n",
    "print(\"The original array is: \", array)\n",
    "Heap_Sort(array)\n",
    "a = len(array)\n",
    "print (\"Array after sorting is: \", array)"
   ]
  },
  {
   "cell_type": "markdown",
   "id": "fec4a5c7",
   "metadata": {},
   "source": [
    "# Insertion sort\n"
   ]
  },
  {
   "cell_type": "code",
   "execution_count": 10,
   "id": "73208e8d",
   "metadata": {},
   "outputs": [
    {
     "name": "stdout",
     "output_type": "stream",
     "text": [
      " 5\n",
      " 6\n",
      " 11\n",
      " 12\n",
      " 13\n"
     ]
    }
   ],
   "source": [
    "\n",
    "\n",
    "def insertionSort(arr):\n",
    "\n",
    "\n",
    "\tfor i in range(1, len(arr)):\n",
    "\n",
    "\t\tkey = arr[i]\n",
    "\n",
    "\n",
    "\t\tj = i-1\n",
    "\t\twhile j >= 0 and key < arr[j] :\n",
    "\t\t\t\tarr[j + 1] = arr[j]\n",
    "\t\t\t\tj -= 1\n",
    "\t\tarr[j + 1] = key\n",
    "\n",
    "\n",
    "arr = [12, 11, 13, 5, 6]\n",
    "insertionSort(arr)\n",
    "for i in range(len(arr)):\n",
    "\tprint (\"% d\" % arr[i])\n",
    "\n"
   ]
  },
  {
   "cell_type": "markdown",
   "id": "539394ca",
   "metadata": {},
   "source": [
    "# merge sort"
   ]
  },
  {
   "cell_type": "code",
   "execution_count": 13,
   "id": "8617198d",
   "metadata": {},
   "outputs": [
    {
     "name": "stdout",
     "output_type": "stream",
     "text": [
      "Orignal Array is:  [7, 2, 5, 6, 3, 1, 8, 4]\n",
      "Sorted array is: \n",
      "1 2 3 4 5 6 7 8 \n"
     ]
    }
   ],
   "source": [
    "def Merge_Sort(array):\n",
    "    if len(array) > 1:\n",
    "        \n",
    "        mid = len(array)//2\n",
    "        Left = array[:mid]\n",
    "        Right = array[mid:]\n",
    "\n",
    "        Merge_Sort(Left)\n",
    "        Merge_Sort(Right)\n",
    "\n",
    "        i = j = k = 0\n",
    "\n",
    "        while i < len(Left) and j < len(Right):\n",
    "            if Left[i] < Right[j]:\n",
    "                array[k] = Left[i]\n",
    "                i += 1\n",
    "            else:\n",
    "                array[k] = Right[j]\n",
    "                j += 1\n",
    "            k += 1\n",
    "\n",
    "        while i < len(Left):\n",
    "            array[k] = Left[i]\n",
    "            i += 1\n",
    "            k += 1\n",
    "\n",
    "        while j < len(Right):\n",
    "            array[k] = Right[j]\n",
    "            j += 1\n",
    "            k += 1\n",
    "\n",
    "\n",
    "def printarray(array):\n",
    "    for i in range(len(array)):\n",
    "        print(array[i], end=\" \")\n",
    "    print()\n",
    "\n",
    "\n",
    "if __name__ == '__main__':\n",
    "    array = [7, 2, 5, 6, 3, 1, 8, 4]\n",
    "    print(\"Orignal Array is: \", array)\n",
    "\n",
    "    Merge_Sort(array)\n",
    "\n",
    "    print(\"Sorted array is: \")\n",
    "    printarray(array)"
   ]
  },
  {
   "cell_type": "markdown",
   "id": "de131070",
   "metadata": {},
   "source": [
    "# quick sort"
   ]
  },
  {
   "cell_type": "code",
   "execution_count": 17,
   "id": "8b78027b",
   "metadata": {},
   "outputs": [
    {
     "name": "stdout",
     "output_type": "stream",
     "text": [
      "Enter the list of numbers: 2 1 6 5\n",
      "Sorted list: [1, 2, 5, 6]\n"
     ]
    }
   ],
   "source": [
    "def quicksort(alist, start, end):\n",
    "    \n",
    "    if end - start > 1:\n",
    "        p = partition(alist, start, end)\n",
    "        quicksort(alist, start, p)\n",
    "        quicksort(alist, p + 1, end)\n",
    " \n",
    " \n",
    "def partition(alist, start, end):\n",
    "    pivot = alist[start]\n",
    "    i = start + 1\n",
    "    j = end - 1\n",
    " \n",
    "    while True:\n",
    "        while (i <= j and alist[i] <= pivot):\n",
    "            i = i + 1\n",
    "        while (i <= j and alist[j] >= pivot):\n",
    "            j = j - 1\n",
    " \n",
    "        if i <= j:\n",
    "            alist[i], alist[j] = alist[j], alist[i]\n",
    "        else:\n",
    "            alist[start], alist[j] = alist[j], alist[start]\n",
    "            return j\n",
    " \n",
    " \n",
    "alist = input('Enter the list of numbers: ').split()\n",
    "alist = [int(x) for x in alist]\n",
    "quicksort(alist, 0, len(alist))\n",
    "print('Sorted list: ', end='')\n",
    "print(alist)"
   ]
  },
  {
   "cell_type": "markdown",
   "id": "3d27064d",
   "metadata": {},
   "source": [
    "# Binary seacrh"
   ]
  },
  {
   "cell_type": "code",
   "execution_count": null,
   "id": "883b190c",
   "metadata": {},
   "outputs": [],
   "source": [
    "def binary_search(alist, start, end, key):\n",
    "    \n",
    "    if not start < end:\n",
    "        return -1\n",
    " \n",
    "    mid = (start + end)//2\n",
    "    if alist[mid] < key:\n",
    "        return binary_search(alist, mid + 1, end, key)\n",
    "    elif alist[mid] > key:\n",
    "        return binary_search(alist, start, mid, key)\n",
    "    else:\n",
    "        return mid\n",
    " \n",
    " \n",
    "alist = input('Enter the sorted list of numbers: ')\n",
    "alist = alist.split()\n",
    "alist = [int(x) for x in alist]\n",
    "key = int(input('The number to search for: '))\n",
    " \n",
    "index = binary_search(alist, 0, len(alist), key)\n",
    "if index < 0:\n",
    "    print('{} was not found.'.format(key))\n",
    "else:\n",
    "    print('{} was found at index {}.'.format(key, index))"
   ]
  },
  {
   "cell_type": "markdown",
   "id": "60e3a152",
   "metadata": {},
   "source": [
    "# Linear search"
   ]
  },
  {
   "cell_type": "code",
   "execution_count": null,
   "id": "c46aecd1",
   "metadata": {},
   "outputs": [],
   "source": [
    "\n",
    "\n",
    "\n",
    "def linearSearch(array, n, x):\n",
    "\n",
    "    \n",
    "    for i in range(0, n):\n",
    "        if (array[i] == x):\n",
    "            return i\n",
    "    return -1\n",
    "\n",
    "\n",
    "array = [2, 4, 0, 1, 9]\n",
    "x = 1\n",
    "n = len(array)\n",
    "result = linearSearch(array, n, x)\n",
    "if(result == -1):\n",
    "    print(\"Element not found\")\n",
    "else:\n",
    "    print(\"Element found at index: \", result)"
   ]
  },
  {
   "cell_type": "code",
   "execution_count": null,
   "id": "ca893ae2",
   "metadata": {},
   "outputs": [],
   "source": []
  }
 ],
 "metadata": {
  "kernelspec": {
   "display_name": "Python 3 (ipykernel)",
   "language": "python",
   "name": "python3"
  },
  "language_info": {
   "codemirror_mode": {
    "name": "ipython",
    "version": 3
   },
   "file_extension": ".py",
   "mimetype": "text/x-python",
   "name": "python",
   "nbconvert_exporter": "python",
   "pygments_lexer": "ipython3",
   "version": "3.9.7"
  }
 },
 "nbformat": 4,
 "nbformat_minor": 5
}
